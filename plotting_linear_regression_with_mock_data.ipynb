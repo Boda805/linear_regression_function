{
 "cells": [
  {
   "cell_type": "code",
   "execution_count": 1,
   "metadata": {},
   "outputs": [],
   "source": [
    "import numpy as np\n",
    "import matplotlib.pyplot as plt\n",
    "\n",
    "%matplotlib inline"
   ]
  },
  {
   "cell_type": "code",
   "execution_count": 2,
   "metadata": {},
   "outputs": [],
   "source": [
    "def plot_data(x_array, y_array, x_label='X', y_label='Y', title=None):\n",
    "    \n",
    "    def x_mean():\n",
    "        return np.mean(x_array)\n",
    "\n",
    "    def y_mean():\n",
    "        return np.mean(y_array)\n",
    "\n",
    "    def x_std():\n",
    "        return np.std(x_array)\n",
    "\n",
    "    def y_std():\n",
    "        return np.std(y_array)\n",
    "\n",
    "    def pears():\n",
    "        \"\"\"Calculate the Pearson correlation coefficient\"\"\"\n",
    "        quad_1 = x_array - x_mean()\n",
    "        quad_2 = y_array - y_mean()\n",
    "        top = sum(quad_1 * quad_2)\n",
    "        quad_3 = sum(quad_1 ** 2)\n",
    "        quad_4 = sum(quad_2 ** 2)\n",
    "        bottom = np.sqrt(quad_3 * quad_4)\n",
    "        pears = top / bottom\n",
    "        return pears\n",
    "   \n",
    "    def slope():\n",
    "        return pears() * (y_std() / x_std())\n",
    "\n",
    "    def y_intercept():\n",
    "        return y_mean() - slope() * x_mean()\n",
    "    \n",
    "    def plot_regression_line():\n",
    "        \"\"\"Plot a line from slope and intercept\"\"\"\n",
    "        axes = plt.gca()\n",
    "        x_vals = np.array(axes.get_xlim())\n",
    "        y_vals = y_intercept() + slope() * x_vals\n",
    "        plt.plot(x_vals, y_vals)    \n",
    "\n",
    "    # plotting data points and linear regression\n",
    "    plt.scatter(x_array, y_array)\n",
    "    plot_regression_line()\n",
    "    \n",
    "    # labeling axis and graph title if provided\n",
    "    plt.xlabel(x_label)\n",
    "    plt.ylabel(y_label)\n",
    "    plt.title(title)\n",
    "    \n",
    "    # display graph\n",
    "    plt.show()"
   ]
  },
  {
   "cell_type": "code",
   "execution_count": 3,
   "metadata": {},
   "outputs": [
    {
     "data": {
      "image/png": "[encoded data removed]",
      "text/plain": [
       "<Figure size 432x288 with 1 Axes>"
      ]
     },
     "metadata": {
      "needs_background": "light"
     },
     "output_type": "display_data"
    }
   ],
   "source": [
    "# mock data\n",
    "act = np.array([22, 24, 18, 23, 31, 20, 21, 21, 22, 28])\n",
    "income = np.array([60, 71, 50, 54, 89, 60, 41, 60, 75, 62])\n",
    "\n",
    "plot_data(act,income,x_label='ACT Score', y_label='Income (Thousand)',\n",
    "          title='ACT Score to Income 10 Years Later')"
   ]
  }
 ],
 "metadata": {
  "kernelspec": {
   "display_name": "Python 3",
   "language": "python",
   "name": "python3"
  },
  "language_info": {
   "codemirror_mode": {
    "name": "ipython",
    "version": 3
   },
   "file_extension": ".py",
   "mimetype": "text/x-python",
   "name": "python",
   "nbconvert_exporter": "python",
   "pygments_lexer": "ipython3",
   "version": "3.7.2"
  }
 },
 "nbformat": 4,
 "nbformat_minor": 2
}
